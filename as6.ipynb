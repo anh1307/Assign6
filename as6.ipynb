{
 "cells": [
  {
   "cell_type": "markdown",
   "metadata": {},
   "source": [
    "# Exercise 1"
   ]
  },
  {
   "cell_type": "code",
   "execution_count": null,
   "metadata": {},
   "outputs": [],
   "source": [
    "import string"
   ]
  },
  {
   "cell_type": "code",
   "execution_count": null,
   "metadata": {},
   "outputs": [],
   "source": [
    "def del_punctuation(item):\n",
    "    punctuation = string.punctuation\n",
    "    for nak in item:\n",
    "        if nak in punctuation:\n",
    "            item = item.replace(nak, '')\n",
    "    return item "
   ]
  },
  {
   "cell_type": "code",
   "execution_count": null,
   "metadata": {},
   "outputs": [],
   "source": [
    "def break_into_words():\n",
    "    murad = open('abc.txt')\n",
    "    words_list = []\n",
    "    for line in murad:\n",
    "        for item in line.split():\n",
    "            item = del_punctuation(item)\n",
    "            item = item.lower()\n",
    "            #print(item)\n",
    "            words_list.append(item)\n",
    "    return words_list"
   ]
  },
  {
   "cell_type": "code",
   "execution_count": null,
   "metadata": {},
   "outputs": [],
   "source": [
    "print(break_into_words())"
   ]
  },
  {
   "cell_type": "code",
   "execution_count": null,
   "metadata": {},
   "outputs": [],
   "source": []
  },
  {
   "cell_type": "code",
   "execution_count": null,
   "metadata": {},
   "outputs": [],
   "source": []
  },
  {
   "cell_type": "markdown",
   "metadata": {},
   "source": [
    "# Exercise 2"
   ]
  },
  {
   "cell_type": "code",
   "execution_count": 22,
   "metadata": {},
   "outputs": [],
   "source": [
    "import string"
   ]
  },
  {
   "cell_type": "code",
   "execution_count": 1,
   "metadata": {},
   "outputs": [],
   "source": [
    "origin = 'origin.txt'\n",
    "great = 'great.txt'\n",
    "meta = 'meta.txt'\n",
    "sherlock = 'sherlock.txt'\n",
    "tale = 'tale.txt'"
   ]
  },
  {
   "cell_type": "code",
   "execution_count": 2,
   "metadata": {},
   "outputs": [
    {
     "ename": "SyntaxError",
     "evalue": "Missing parentheses in call to 'print'. Did you mean print(\"Stats for %s:\" % book.name)? (<ipython-input-2-ef5c996dee0b>, line 35)",
     "output_type": "error",
     "traceback": [
      "\u001b[0;36m  File \u001b[0;32m\"<ipython-input-2-ef5c996dee0b>\"\u001b[0;36m, line \u001b[0;32m35\u001b[0m\n\u001b[0;31m    print \"Stats for %s:\" % book.name\u001b[0m\n\u001b[0m                        ^\u001b[0m\n\u001b[0;31mSyntaxError\u001b[0m\u001b[0;31m:\u001b[0m Missing parentheses in call to 'print'. Did you mean print(\"Stats for %s:\" % book.name)?\n"
     ]
    }
   ],
   "source": [
    "def words(book):\n",
    "    list_ = []\n",
    "    flag = False\n",
    "    signal = \"*** START OF\"\n",
    "    for line in book:\n",
    "        if flag == True:\n",
    "            for word in line.split():\n",
    "                list_.append(word)\n",
    "        elif (signal in line) and (flag == False):\n",
    "            flag = True\n",
    "        else:\n",
    "            pass\n",
    "    return list_\n",
    "    \n",
    "def clean(word):\n",
    "    result = ''\n",
    "    for letter in word:\n",
    "        if (letter in whitespace) or (letter in punctuation):\n",
    "            pass\n",
    "        else:\n",
    "            result += letter.lower()\n",
    "    return result\n",
    "\n",
    "def histogram(data):\n",
    "    hist = {}\n",
    "    for word in data:\n",
    "        hist[word] = hist.get(word, 0) + 1\n",
    "    return hist\n",
    "\n",
    "books = [origin, great, meta, sherlock, tale]\n",
    "\n",
    "def stats():\n",
    "    for book in books:\n",
    "        book = open(book, 'r')\n",
    "        print \"Stats for %s:\" % book.name\n",
    "        data = [clean(word) for word in words(book)]\n",
    "        book.close()\n",
    "        print \"Total: %s\" % len(data)\n",
    "        print \"Unique: %s\" % len(histogram(data))\n",
    "stats()"
   ]
  },
  {
   "cell_type": "code",
   "execution_count": null,
   "metadata": {},
   "outputs": [],
   "source": []
  },
  {
   "cell_type": "code",
   "execution_count": null,
   "metadata": {},
   "outputs": [],
   "source": []
  },
  {
   "cell_type": "markdown",
   "metadata": {},
   "source": [
    "# Exercise 3"
   ]
  },
  {
   "cell_type": "code",
   "execution_count": null,
   "metadata": {},
   "outputs": [],
   "source": [
    "from string import punctuation, whitespace"
   ]
  },
  {
   "cell_type": "code",
   "execution_count": null,
   "metadata": {},
   "outputs": [],
   "source": [
    "origin = 'origin.txt'\n",
    "great = 'great.txt'\n",
    "meta = 'meta.txt'\n",
    "sherlock = 'sherlock.txt'\n",
    "tale = 'tale.txt'\n",
    "\n",
    "books = [origin, great, meta, sherlock, tale]"
   ]
  },
  {
   "cell_type": "code",
   "execution_count": null,
   "metadata": {},
   "outputs": [],
   "source": [
    "def words(book):\n",
    "    sig = \"*** START OF\"\n",
    "    list_ = []\n",
    "    flag = False\n",
    "    op = open(book, 'r')\n",
    "    for line in op:\n",
    "        if flag == True:\n",
    "            for word in line.split():\n",
    "                list_.append(word)\n",
    "        elif (sig in line) and (flag == False):\n",
    "            flag = True\n",
    "        else:\n",
    "            pass\n",
    "    op.close()\n",
    "    return list_\n",
    "    \n",
    "def clean(word):\n",
    "     result = ''\n",
    "    for char in word:\n",
    "         if (char in whitespace) \n",
    "            or (char in punctuation):\n",
    "                pass\n",
    "        else:\n",
    "            result += char.lower()\n",
    "    return result\n",
    "\n",
    "def histogram(data):\n",
    "     hist = {}\n",
    "    for word in data:\n",
    "        if word == '':\n",
    "            pass\n",
    "         else:\n",
    "            hist[word] = hist.get(word, 0) + 1\n",
    "    return hist\n",
    "\n",
    "def main():\n",
    "    for book in books:\n",
    "        data = [clean(word) for word in words(book)]\n",
    "        print \"Stats for %s:\" % book\n",
    "        hist = histogram(data)\n",
    "        top20 = []\n",
    "        for key in hist:\n",
    "            top20.append([hist[key], key])\n",
    "        top20.sort(reverse=True)\n",
    "        for i in range(0, 20):\n",
    "            print \"  %s) %s %s\" % (i + 1, top20[i][1], top20[i][0])\n",
    "        print \"\\n\"       \n",
    "main()"
   ]
  },
  {
   "cell_type": "code",
   "execution_count": null,
   "metadata": {},
   "outputs": [],
   "source": []
  },
  {
   "cell_type": "markdown",
   "metadata": {},
   "source": []
  },
  {
   "cell_type": "markdown",
   "metadata": {},
   "source": [
    "# Exercise 4"
   ]
  },
  {
   "cell_type": "code",
   "execution_count": null,
   "metadata": {},
   "outputs": [],
   "source": [
    "import random"
   ]
  },
  {
   "cell_type": "code",
   "execution_count": 3,
   "metadata": {},
   "outputs": [],
   "source": [
    "def histogram(s):\n",
    "    ad = dict()\n",
    "    for c in s:\n",
    "        ad[c] = ad.get(c, s.count(c))\n",
    "    return d\n",
    "\n",
    "def sum_dict_values(*t):\n",
    "    return sum(t)\n",
    "\n",
    "def choose_from_hist(h):\n",
    "    print(h)\n",
    "    random_key = random.choice(list(h.keys()))\n",
    "    probability = h[random_key]/sum(h.values())\n",
    "    values_sum = sum(h.values())\n",
    "    print('Random value is \"{}\" and its probability is {}/{}, i.e. {}.' \\\n",
    "          .format(random_key, h[random_key], sum(h.values()), probability))\n"
   ]
  },
  {
   "cell_type": "code",
   "execution_count": null,
   "metadata": {},
   "outputs": [],
   "source": []
  }
 ],
 "metadata": {
  "kernelspec": {
   "display_name": "Python 3",
   "language": "python",
   "name": "python3"
  },
  "language_info": {
   "codemirror_mode": {
    "name": "ipython",
    "version": 3
   },
   "file_extension": ".py",
   "mimetype": "text/x-python",
   "name": "python",
   "nbconvert_exporter": "python",
   "pygments_lexer": "ipython3",
   "version": "3.6.7"
  }
 },
 "nbformat": 4,
 "nbformat_minor": 2
}
